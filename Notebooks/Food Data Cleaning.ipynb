{
 "cells": [
  {
   "cell_type": "markdown",
   "id": "8a77eaae-bf22-475e-9ba0-9328bbea9552",
   "metadata": {},
   "source": [
    "## 📈 Food Prices and 💸 Affordability Project — Data Cleaning Notebook\n",
    "\n",
    "This notebook documents the **data cleaning and preparation process** for the examination of food prices and affordability in Ireland between 2014 and 2024. The core dataset includes monthly retail prices for 41 food and non-alcoholic beverage items collected by the Central Statistics Office (CSO), complemented by median household disposable income data to support affordability analysis.  \n",
    "\n",
    "The goal of this notebook is to ensure the data is:\n",
    "\n",
    "- Structurally consistent.\n",
    "- Free of missing or duplicate records.\n",
    "- Standardized in measurement units (euro per kg or per litre).\n",
    "- Ready for reliable exploratory and statistical analysis in next phases. \n",
    "\n",
    "Data sources referenced:\n",
    "\n",
    "- **Central Statistics Office (CSO):** food price data and household income  \n",
    "- **Health Service Executive (HSE) and Safefood Ireland:** for categorizing food healthiness (applied in later notebooks)\n",
    "\n",
    "---\n",
    "\n",
    "⚙️ **Objectives of this cleaning notebook**\n",
    "\n",
    "- Load and inspect the raw data.\n",
    "- Check and handle missing values.\n",
    "- Check and handle duplicate records.\n",
    "- Standardize units of measurement for price.\n",
    "- Validate data structure and integrity before EDA.\n",
    "\n",
    "---\n",
    "\n",
    "After completing this data cleaning notebook, the cleaned dataset will be exported and used for further exploratory data analysis (EDA), feature engineering, and affordability modeling.\n",
    "\n",
    "---\n",
    "\n",
    "#### Libraries imported for the project. \n",
    "\n",
    "- All the necessary libraries for the present notebook will be imported in the next cell with the description."
   ]
  },
  {
   "cell_type": "code",
   "execution_count": 1,
   "id": "870ae910-cd90-4acd-acb7-bb358f7c632a",
   "metadata": {},
   "outputs": [],
   "source": [
    "# Importing Required Libraries\n",
    "\n",
    "# Data manipulation and wrangling.\n",
    "import pandas as pd          # Primary data handling library.\n",
    "import numpy as np           # Numerical operations and arrays.\n",
    "\n",
    "# Data visualization\n",
    "import matplotlib.pyplot as plt   # Library for plotting.\n",
    "import matplotlib.dates as mdates # Formatting time-based axes.\n",
    "import missingno as msno          # Missing value visualization.\n",
    "\n",
    "# Suppress warnings for a cleaner notebook presentation.\n",
    "import warnings\n",
    "warnings.filterwarnings(\"ignore\", category=FutureWarning)"
   ]
  },
  {
   "cell_type": "markdown",
   "id": "2e2416ec-7a38-42a9-b800-63cb341694f0",
   "metadata": {},
   "source": [
    "## 🗂️ Food Dataset Introduction\n",
    "\n",
    "The primary data source for this project is the National Average Prices table (CPM12) from the Central Statistics Office (CSO) of Ireland. This table reports monthly prices for various food items. The project focuses on data from 2014 to 2025 to analyze food price trends and affordability in Ireland.\n",
    "\n",
    "---\n",
    "\n",
    "### 🗃️ Dataset Source and License\n",
    "\n",
    "- Publisher: CSO Ireland\n",
    "- License: Creative Commons Attribution 4.0 (CC BY 4.0)\n",
    "- Dataset link: [CSO CPM12 National Average Prices](https://data.gov.ie/dataset/cpm12-national-average-price)\n",
    "- Documentation link: [CSO Price Methodology](https://www.cso.ie/en/methods/prices/consumerpriceindex/methodologydocuments/introductionofupdatedseriesbasedecember2023100/)\n",
    "\n",
    "\n",
    "---\n",
    "\n",
    "- The dataset was imported from the local machine after being collected from the CSO database."
   ]
  },
  {
   "cell_type": "markdown",
   "id": "8954d257-6ead-48ca-8d23-b314fb6441bf",
   "metadata": {},
   "source": [
    "**Data Dictionary**  \n",
    "To ensure clarity and transparency, the following table describes the original features imported from the raw data sources. These definitions provide context for the variables used throughout the analysis and help establish a shared understanding before any transformations or feature engineering are applied.\n",
    "\n",
    "| Variable             | Description                                                                 |\n",
    "| -------------------- | --------------------------------------------------------------------------- |\n",
    "| `STATISTIC Label`    | Label describing the measurement (typically “Average Price” or equivalent). |\n",
    "| `Month`              | Month of observation (e.g., 2021M01 for Jan 2021).                          |\n",
    "| `Consumer Item`      | Food item name as reported in the CSO dataset.                              |\n",
    "| `UNIT`               | Unit of measurement (e.g., EUR, kilogram).                                  |\n",
    "| `VALUE`              | Observed average price for the given month and item.                        |\n",
    "| `Item`               | Food item name used in food tagging (matches `Consumer Item`).              |\n",
    "| `Tag`                | Assigned health category for the food (Healthy, Unhealthy, Neutral).        |\n",
    "| `Tag Source`         | Authority that defined the category (e.g., HSE or Safefood).                |\n",
    "| `year`               | Calendar year.                                                              |\n",
    "| `Median_Income_euro` | Estimated median household disposable income for the given year (in euro).  |"
   ]
  },
  {
   "cell_type": "code",
   "execution_count": 2,
   "id": "a59aae26-e9db-43c9-bf64-c4abcb1fecf6",
   "metadata": {},
   "outputs": [],
   "source": [
    "# Importing Dataset as food. \n",
    "food = pd.read_csv(\"../data/CPM12.20250617T120650.csv\")"
   ]
  },
  {
   "cell_type": "markdown",
   "id": "19186d19-c87f-4fe7-983d-bb7b2a256557",
   "metadata": {},
   "source": [
    "### 🧩 Data Understanding\n",
    "\n",
    "- The following code combines the use of `.head()`, `.tail()`, and `.shape`  to display the first and last five observations, followed by the dataset's overall shape."
   ]
  },
  {
   "cell_type": "code",
   "execution_count": 3,
   "id": "64db0ff0-aa52-4430-936a-5c2de1d42841",
   "metadata": {},
   "outputs": [
    {
     "data": {
      "text/html": [
       "<div>\n",
       "<style scoped>\n",
       "    .dataframe tbody tr th:only-of-type {\n",
       "        vertical-align: middle;\n",
       "    }\n",
       "\n",
       "    .dataframe tbody tr th {\n",
       "        vertical-align: top;\n",
       "    }\n",
       "\n",
       "    .dataframe thead th {\n",
       "        text-align: right;\n",
       "    }\n",
       "</style>\n",
       "<table border=\"1\" class=\"dataframe\">\n",
       "  <thead>\n",
       "    <tr style=\"text-align: right;\">\n",
       "      <th></th>\n",
       "      <th>STATISTIC Label</th>\n",
       "      <th>Month</th>\n",
       "      <th>Consumer Item</th>\n",
       "      <th>UNIT</th>\n",
       "      <th>VALUE</th>\n",
       "    </tr>\n",
       "  </thead>\n",
       "  <tbody>\n",
       "    <tr>\n",
       "      <th>0</th>\n",
       "      <td>National Average Price</td>\n",
       "      <td>2014 January</td>\n",
       "      <td>White, self raising flour per 2 kg</td>\n",
       "      <td>Euro</td>\n",
       "      <td>2.308</td>\n",
       "    </tr>\n",
       "    <tr>\n",
       "      <th>1</th>\n",
       "      <td>National Average Price</td>\n",
       "      <td>2014 January</td>\n",
       "      <td>Brown, wholemeal flour per 2 kg</td>\n",
       "      <td>Euro</td>\n",
       "      <td>2.971</td>\n",
       "    </tr>\n",
       "    <tr>\n",
       "      <th>2</th>\n",
       "      <td>National Average Price</td>\n",
       "      <td>2014 January</td>\n",
       "      <td>Bread, white sliced pan, large (800g)</td>\n",
       "      <td>Euro</td>\n",
       "      <td>1.289</td>\n",
       "    </tr>\n",
       "    <tr>\n",
       "      <th>3</th>\n",
       "      <td>National Average Price</td>\n",
       "      <td>2014 January</td>\n",
       "      <td>Bread, brown sliced pan, large (800g)</td>\n",
       "      <td>Euro</td>\n",
       "      <td>1.532</td>\n",
       "    </tr>\n",
       "    <tr>\n",
       "      <th>4</th>\n",
       "      <td>National Average Price</td>\n",
       "      <td>2014 January</td>\n",
       "      <td>Spaghetti per 500g</td>\n",
       "      <td>Euro</td>\n",
       "      <td>1.105</td>\n",
       "    </tr>\n",
       "    <tr>\n",
       "      <th>...</th>\n",
       "      <td>...</td>\n",
       "      <td>...</td>\n",
       "      <td>...</td>\n",
       "      <td>...</td>\n",
       "      <td>...</td>\n",
       "    </tr>\n",
       "    <tr>\n",
       "      <th>6571</th>\n",
       "      <td>National Average Price</td>\n",
       "      <td>2025 May</td>\n",
       "      <td>White granulated sugar per 1 kg</td>\n",
       "      <td>Euro</td>\n",
       "      <td>1.873</td>\n",
       "    </tr>\n",
       "    <tr>\n",
       "      <th>6572</th>\n",
       "      <td>National Average Price</td>\n",
       "      <td>2025 May</td>\n",
       "      <td>Jam per lb</td>\n",
       "      <td>Euro</td>\n",
       "      <td>1.047</td>\n",
       "    </tr>\n",
       "    <tr>\n",
       "      <th>6573</th>\n",
       "      <td>National Average Price</td>\n",
       "      <td>2025 May</td>\n",
       "      <td>Marmalade per lb</td>\n",
       "      <td>Euro</td>\n",
       "      <td>2.083</td>\n",
       "    </tr>\n",
       "    <tr>\n",
       "      <th>6574</th>\n",
       "      <td>National Average Price</td>\n",
       "      <td>2025 May</td>\n",
       "      <td>Tea bags per 80</td>\n",
       "      <td>Euro</td>\n",
       "      <td>3.339</td>\n",
       "    </tr>\n",
       "    <tr>\n",
       "      <th>6575</th>\n",
       "      <td>National Average Price</td>\n",
       "      <td>2025 May</td>\n",
       "      <td>Orange juice per litre</td>\n",
       "      <td>Euro</td>\n",
       "      <td>1.920</td>\n",
       "    </tr>\n",
       "  </tbody>\n",
       "</table>\n",
       "<p>6576 rows × 5 columns</p>\n",
       "</div>"
      ],
      "text/plain": [
       "             STATISTIC Label         Month  \\\n",
       "0     National Average Price  2014 January   \n",
       "1     National Average Price  2014 January   \n",
       "2     National Average Price  2014 January   \n",
       "3     National Average Price  2014 January   \n",
       "4     National Average Price  2014 January   \n",
       "...                      ...           ...   \n",
       "6571  National Average Price      2025 May   \n",
       "6572  National Average Price      2025 May   \n",
       "6573  National Average Price      2025 May   \n",
       "6574  National Average Price      2025 May   \n",
       "6575  National Average Price      2025 May   \n",
       "\n",
       "                              Consumer Item  UNIT  VALUE  \n",
       "0        White, self raising flour per 2 kg  Euro  2.308  \n",
       "1           Brown, wholemeal flour per 2 kg  Euro  2.971  \n",
       "2     Bread, white sliced pan, large (800g)  Euro  1.289  \n",
       "3     Bread, brown sliced pan, large (800g)  Euro  1.532  \n",
       "4                        Spaghetti per 500g  Euro  1.105  \n",
       "...                                     ...   ...    ...  \n",
       "6571        White granulated sugar per 1 kg  Euro  1.873  \n",
       "6572                             Jam per lb  Euro  1.047  \n",
       "6573                       Marmalade per lb  Euro  2.083  \n",
       "6574                        Tea bags per 80  Euro  3.339  \n",
       "6575                 Orange juice per litre  Euro  1.920  \n",
       "\n",
       "[6576 rows x 5 columns]"
      ]
     },
     "metadata": {},
     "output_type": "display_data"
    }
   ],
   "source": [
    "# Shows information about the dataset.\n",
    "display(food)"
   ]
  },
  {
   "cell_type": "code",
   "execution_count": 4,
   "id": "ad78745e-bec5-4865-b93f-6e3a8c21d9ef",
   "metadata": {},
   "outputs": [
    {
     "name": "stdout",
     "output_type": "stream",
     "text": [
      "<class 'pandas.core.frame.DataFrame'>\n",
      "RangeIndex: 6576 entries, 0 to 6575\n",
      "Data columns (total 5 columns):\n",
      " #   Column           Non-Null Count  Dtype  \n",
      "---  ------           --------------  -----  \n",
      " 0   STATISTIC Label  6576 non-null   object \n",
      " 1   Month            6576 non-null   object \n",
      " 2   Consumer Item    6576 non-null   object \n",
      " 3   UNIT             6576 non-null   object \n",
      " 4   VALUE            6054 non-null   float64\n",
      "dtypes: float64(1), object(4)\n",
      "memory usage: 257.0+ KB\n"
     ]
    }
   ],
   "source": [
    "# Displays the info of the table, similiar to schema.\n",
    "food.info()"
   ]
  },
  {
   "cell_type": "code",
   "execution_count": 5,
   "id": "4f556733-5474-4e81-b1de-56e981387613",
   "metadata": {},
   "outputs": [
    {
     "data": {
      "text/plain": [
       "STATISTIC Label      0\n",
       "Month                0\n",
       "Consumer Item        0\n",
       "UNIT                 0\n",
       "VALUE              522\n",
       "dtype: int64"
      ]
     },
     "execution_count": 5,
     "metadata": {},
     "output_type": "execute_result"
    }
   ],
   "source": [
    "# Returns the sum of NaN-values in all columns in the table.\n",
    "food.isna().sum()"
   ]
  },
  {
   "cell_type": "markdown",
   "id": "3188294c-eb0d-49a4-9b9c-a2f1990e3fbb",
   "metadata": {},
   "source": [
    "- A missing-value matrix plot was created using the `missingno` library to visually confirm the structure of missingness across items and months. This makes it easier to detect any systematic gaps that might be hidden in the .isna().sum() table."
   ]
  },
  {
   "cell_type": "markdown",
   "id": "72569a57-a545-4eaf-8ff9-dc3340218af5",
   "metadata": {},
   "source": [
    "#### Dataset Description\n",
    "\n",
    "The food table is composed by 6576 rows and 6 columns. \n",
    "- The first \"column\" the index. \n",
    "- Second is the statistic label \n",
    "- Third is the Month, recorded in Year-Month (type = Object)\n",
    "- Forth column is the Consumer Item (type = Oject) represented by the list of food items.\n",
    "- Fifth is what Unit is represented the VALUE column which is in Euro.\n",
    "- The last is the VALUE which is the price of the items in € (decimal numeric type float64).\n",
    "- Initial Missing Values Check showed 522 NaN-Values in the VALUE column.  "
   ]
  },
  {
   "cell_type": "code",
   "execution_count": 6,
   "id": "94e2ed3e-8e56-4f9e-b888-af663dda19f0",
   "metadata": {},
   "outputs": [
    {
     "name": "stdout",
     "output_type": "stream",
     "text": [
      "📋 List of Unique Food Items:\n",
      "\n",
      "- Bananas per kg\n",
      "- Best back rashers per kg\n",
      "- Bread, brown sliced pan, large (800g)\n",
      "- Bread, white sliced pan, large (800g)\n",
      "- Broccoli per kg\n",
      "- Brown, wholemeal flour per 2 kg\n",
      "- Butter per lb\n",
      "- Carrots per kg\n",
      "- Cooked ham per kg\n",
      "- Fresh fillet of cod per kg\n",
      "- Fresh fillet of plaice per kg\n",
      "- Fresh fillet of whiting per kg\n",
      "- Fresh hake per kg\n",
      "- Fresh salmon per kg\n",
      "- Full fat milk per 2 litre\n",
      "- Grapes per kg\n",
      "- Ham fillet per kg\n",
      "- Irish cheddar per kg\n",
      "- Jam per lb\n",
      "- Lamb - whole leg / half leg per kg\n",
      "- Lamb gigot chops per kg\n",
      "- Lamb loin chops per kg\n",
      "- Lamb's liver per kg\n",
      "- Large eggs per half dozen\n",
      "- Low fat milk per 1 litre\n",
      "- Marmalade per lb\n",
      "- Medium eggs per half dozen\n",
      "- Mushrooms per kg\n",
      "- Onions per kg\n",
      "- Orange juice per litre\n",
      "- Pork loin chops per kg\n",
      "- Pork sausages per kg\n",
      "- Pork steak per kg\n",
      "- Potatoes 10 kg\n",
      "- Potatoes 2.5 kg\n",
      "- Potatoes 7.5 kg\n",
      "- Roast beef - topside or rib per kg\n",
      "- Sirloin steak per kg\n",
      "- Sliced / diced beef pieces per kg\n",
      "- Smoked salmon per kg\n",
      "- Spaghetti per 500g\n",
      "- Striploin steak per kg\n",
      "- Tea bags per 80\n",
      "- Tomatoes per kg\n",
      "- Tomatoes tinned per 400g\n",
      "- Uncooked chicken medium size 1.6kg\n",
      "- White granulated sugar per 1 kg\n",
      "- White, self raising flour per 2 kg\n",
      "\n",
      "🔢 Total Number of Unique Food Items: 48\n"
     ]
    }
   ],
   "source": [
    "# Extract all unique items from the 'Consumer Item' column\n",
    "unique_items = food['Consumer Item'].unique()\n",
    "\n",
    "# Sort the list alphabetically for easier readability.\n",
    "sorted_items = sorted(unique_items)\n",
    "\n",
    "# Print each unique item.\n",
    "print(\"📋 List of Unique Food Items:\\n\")\n",
    "for item in sorted_items:\n",
    "    print(\"-\", item)\n",
    "\n",
    "# Print the total count of unique food items.\n",
    "print(f\"\\n🔢 Total Number of Unique Food Items: {len(sorted_items)}\")"
   ]
  },
  {
   "cell_type": "markdown",
   "id": "2944f7b0-5393-456b-8798-371f779fdbe1",
   "metadata": {},
   "source": [
    "    The present project has only 48 items, a small number compare to what consumers can find at the shops. However, those items represent the most common goods Irish households shopping list.  \n",
    "\n",
    "\n",
    "#### Descriptive Statistics (Raw food dataset)"
   ]
  },
  {
   "cell_type": "code",
   "execution_count": 7,
   "id": "c346e627-483a-431e-b5fe-2961cab0c3c9",
   "metadata": {},
   "outputs": [
    {
     "data": {
      "text/html": [
       "<div>\n",
       "<style scoped>\n",
       "    .dataframe tbody tr th:only-of-type {\n",
       "        vertical-align: middle;\n",
       "    }\n",
       "\n",
       "    .dataframe tbody tr th {\n",
       "        vertical-align: top;\n",
       "    }\n",
       "\n",
       "    .dataframe thead th {\n",
       "        text-align: right;\n",
       "    }\n",
       "</style>\n",
       "<table border=\"1\" class=\"dataframe\">\n",
       "  <thead>\n",
       "    <tr style=\"text-align: right;\">\n",
       "      <th></th>\n",
       "      <th>VALUE</th>\n",
       "    </tr>\n",
       "  </thead>\n",
       "  <tbody>\n",
       "    <tr>\n",
       "      <th>count</th>\n",
       "      <td>6054.000000</td>\n",
       "    </tr>\n",
       "    <tr>\n",
       "      <th>mean</th>\n",
       "      <td>7.202121</td>\n",
       "    </tr>\n",
       "    <tr>\n",
       "      <th>std</th>\n",
       "      <td>7.276315</td>\n",
       "    </tr>\n",
       "    <tr>\n",
       "      <th>min</th>\n",
       "      <td>0.767000</td>\n",
       "    </tr>\n",
       "    <tr>\n",
       "      <th>25%</th>\n",
       "      <td>1.689250</td>\n",
       "    </tr>\n",
       "    <tr>\n",
       "      <th>50%</th>\n",
       "      <td>3.765500</td>\n",
       "    </tr>\n",
       "    <tr>\n",
       "      <th>75%</th>\n",
       "      <td>10.618000</td>\n",
       "    </tr>\n",
       "    <tr>\n",
       "      <th>max</th>\n",
       "      <td>38.015000</td>\n",
       "    </tr>\n",
       "  </tbody>\n",
       "</table>\n",
       "</div>"
      ],
      "text/plain": [
       "             VALUE\n",
       "count  6054.000000\n",
       "mean      7.202121\n",
       "std       7.276315\n",
       "min       0.767000\n",
       "25%       1.689250\n",
       "50%       3.765500\n",
       "75%      10.618000\n",
       "max      38.015000"
      ]
     },
     "execution_count": 7,
     "metadata": {},
     "output_type": "execute_result"
    }
   ],
   "source": [
    "# Shows the descriptive statistics of numeric columns.\n",
    "food.describe()"
   ]
  },
  {
   "cell_type": "markdown",
   "id": "13b7e0be-a667-4a89-bf3b-5e5402c94a3c",
   "metadata": {},
   "source": [
    "- In the current format, the statistical features of the VALUE (only numeric column) is not particulary meaningful at this stage. This is because the structure of the long format has all the values store in a single column, resulting in statistical features that represents the overall distribution of all prices combined. Thus, transformations were performed in later stages to extract more useful insights.\n",
    "\n",
    "**The food prices statistical features were key to decide which type of dataset to use to analyse the afforadability, which is further showed and explained in the EDA section**."
   ]
  },
  {
   "cell_type": "markdown",
   "id": "71f1983a-54e0-47e4-918c-e5df768c50bb",
   "metadata": {},
   "source": [
    "## 🧼 Food Dataset Preparation and Cleaning\n",
    "\n",
    "#### 1. Removing/Renaming columns and Adjusting Date feature.\n",
    "\n",
    "After the initial observations the cleaning phase will start by: \n",
    "- Removing redundant data.\n",
    "- Renaming columns.\n",
    "\n",
    "Droping unnecessary coumns and renaming the final columns that are going to be used for the analysis, the new names are more explanatory and shorter, which is better when writting queries.  "
   ]
  },
  {
   "cell_type": "code",
   "execution_count": 8,
   "id": "cf302bf4-eead-4514-a888-75e25f0b0840",
   "metadata": {},
   "outputs": [],
   "source": [
    "# Drops the STATISTIC LABEL and UNIT column. \n",
    "food = food.drop(columns=['STATISTIC Label', 'UNIT'])"
   ]
  },
  {
   "cell_type": "code",
   "execution_count": 9,
   "id": "5a6ec6b0-1c8a-4a3b-9862-4c4e277c76c5",
   "metadata": {},
   "outputs": [],
   "source": [
    "# Renaming the columns using a dictionary. \n",
    "food = food.rename(columns={\n",
    "    'Consumer Item': 'Item',\n",
    "    'VALUE': 'Price_euro'})"
   ]
  },
  {
   "cell_type": "markdown",
   "id": "e904f672-95ca-4709-a4fb-39040737fc63",
   "metadata": {},
   "source": [
    "To analyse the behaviour of the prices overtime the Month column will have to be adjusted. \n",
    "\n",
    "- The first transformation was performed on the Month column was by changing the format from object (string) to datetime, enabling time-series operation required for the pipeline.\n",
    "- The second step extract the year and the month."
   ]
  },
  {
   "cell_type": "code",
   "execution_count": 10,
   "id": "d507906a-dae3-468a-b44b-71eb303a9582",
   "metadata": {},
   "outputs": [
    {
     "name": "stdout",
     "output_type": "stream",
     "text": [
      "          Month       Date  Year  Month_num\n",
      "0  2014 January 2014-01-01  2014          1\n",
      "1  2014 January 2014-01-01  2014          1\n",
      "2  2014 January 2014-01-01  2014          1\n",
      "3  2014 January 2014-01-01  2014          1\n",
      "4  2014 January 2014-01-01  2014          1\n"
     ]
    }
   ],
   "source": [
    "# Transforming the Month column to datetime format.\n",
    "food['Date'] = pd.to_datetime(food['Month'], format='%Y %B')\n",
    "\n",
    "# Extract year and month for easy grouping later\n",
    "food[\"Year\"] = food[\"Date\"].dt.year\n",
    "food[\"Month_num\"] = food[\"Date\"].dt.month\n",
    "\n",
    "# Check result\n",
    "print(food[[\"Month\", \"Date\", \"Year\", \"Month_num\"]].head())"
   ]
  },
  {
   "cell_type": "code",
   "execution_count": 11,
   "id": "f0b701da-c580-49ad-b357-a4a8a819ace9",
   "metadata": {},
   "outputs": [
    {
     "data": {
      "text/html": [
       "<div>\n",
       "<style scoped>\n",
       "    .dataframe tbody tr th:only-of-type {\n",
       "        vertical-align: middle;\n",
       "    }\n",
       "\n",
       "    .dataframe tbody tr th {\n",
       "        vertical-align: top;\n",
       "    }\n",
       "\n",
       "    .dataframe thead th {\n",
       "        text-align: right;\n",
       "    }\n",
       "</style>\n",
       "<table border=\"1\" class=\"dataframe\">\n",
       "  <thead>\n",
       "    <tr style=\"text-align: right;\">\n",
       "      <th></th>\n",
       "      <th>Month</th>\n",
       "      <th>Item</th>\n",
       "      <th>Price_euro</th>\n",
       "      <th>Date</th>\n",
       "      <th>Year</th>\n",
       "      <th>Month_num</th>\n",
       "    </tr>\n",
       "  </thead>\n",
       "  <tbody>\n",
       "    <tr>\n",
       "      <th>0</th>\n",
       "      <td>2014 January</td>\n",
       "      <td>White, self raising flour per 2 kg</td>\n",
       "      <td>2.308</td>\n",
       "      <td>2014-01-01</td>\n",
       "      <td>2014</td>\n",
       "      <td>1</td>\n",
       "    </tr>\n",
       "    <tr>\n",
       "      <th>1</th>\n",
       "      <td>2014 January</td>\n",
       "      <td>Brown, wholemeal flour per 2 kg</td>\n",
       "      <td>2.971</td>\n",
       "      <td>2014-01-01</td>\n",
       "      <td>2014</td>\n",
       "      <td>1</td>\n",
       "    </tr>\n",
       "    <tr>\n",
       "      <th>2</th>\n",
       "      <td>2014 January</td>\n",
       "      <td>Bread, white sliced pan, large (800g)</td>\n",
       "      <td>1.289</td>\n",
       "      <td>2014-01-01</td>\n",
       "      <td>2014</td>\n",
       "      <td>1</td>\n",
       "    </tr>\n",
       "    <tr>\n",
       "      <th>3</th>\n",
       "      <td>2014 January</td>\n",
       "      <td>Bread, brown sliced pan, large (800g)</td>\n",
       "      <td>1.532</td>\n",
       "      <td>2014-01-01</td>\n",
       "      <td>2014</td>\n",
       "      <td>1</td>\n",
       "    </tr>\n",
       "    <tr>\n",
       "      <th>4</th>\n",
       "      <td>2014 January</td>\n",
       "      <td>Spaghetti per 500g</td>\n",
       "      <td>1.105</td>\n",
       "      <td>2014-01-01</td>\n",
       "      <td>2014</td>\n",
       "      <td>1</td>\n",
       "    </tr>\n",
       "  </tbody>\n",
       "</table>\n",
       "</div>"
      ],
      "text/plain": [
       "          Month                                   Item  Price_euro       Date  \\\n",
       "0  2014 January     White, self raising flour per 2 kg       2.308 2014-01-01   \n",
       "1  2014 January        Brown, wholemeal flour per 2 kg       2.971 2014-01-01   \n",
       "2  2014 January  Bread, white sliced pan, large (800g)       1.289 2014-01-01   \n",
       "3  2014 January  Bread, brown sliced pan, large (800g)       1.532 2014-01-01   \n",
       "4  2014 January                     Spaghetti per 500g       1.105 2014-01-01   \n",
       "\n",
       "   Year  Month_num  \n",
       "0  2014          1  \n",
       "1  2014          1  \n",
       "2  2014          1  \n",
       "3  2014          1  \n",
       "4  2014          1  "
      ]
     },
     "execution_count": 11,
     "metadata": {},
     "output_type": "execute_result"
    }
   ],
   "source": [
    "# Display the first five rows to check the previous queries. \n",
    "food.head()"
   ]
  },
  {
   "cell_type": "markdown",
   "id": "f61f53d8-73af-4e81-99ee-9ae6a0a2f1b9",
   "metadata": {},
   "source": [
    "At a first glance, the set returned missing values (NaN) and in order to have successful results at the end all the values must be filled. Therefore, the following step will analyse the NaN and their location. \n",
    "\n",
    "#### 2. Handling Missing Values and Duplicates\n",
    "\n",
    "The total number of missing values is 522 and they are located in the VALUE column (item price). Thus, a examination of the NaN's were carried out to determine the adequate approach to handle them. \n",
    "The investigation was performed by following: \n",
    "- Identification of the number of NaN through the Items column, it will tell how many NaN each item have.\n",
    "- The proportion in % of missing data is calculated (based on total number of obsevations for each item)."
   ]
  },
  {
   "cell_type": "code",
   "execution_count": 12,
   "id": "3352e6a7-fff8-4e47-82a8-b7a1ba4cc2ba",
   "metadata": {},
   "outputs": [
    {
     "data": {
      "text/plain": [
       "<Axes: >"
      ]
     },
     "execution_count": 12,
     "metadata": {},
     "output_type": "execute_result"
    },
    {
     "data": {
      "image/png": "[encoded data removed]",
      "text/plain": [
       "<Figure size 2500x1000 with 2 Axes>"
      ]
     },
     "metadata": {},
     "output_type": "display_data"
    }
   ],
   "source": [
    "# Display the NaN Matrix plot.\n",
    "msno.matrix(food) "
   ]
  },
  {
   "cell_type": "code",
   "execution_count": 13,
   "id": "e7f88166-45cc-4df8-bde2-d62ae366a305",
   "metadata": {},
   "outputs": [
    {
     "name": "stdout",
     "output_type": "stream",
     "text": [
      "Number of duplicate rows: 0\n"
     ]
    }
   ],
   "source": [
    "# Check for duplicates.\n",
    "# A unique price should be for each Consumer Item + Date.\n",
    "duplicates = food.duplicated(subset=[\"Item\", \"Date\"]).sum()\n",
    "print(f\"Number of duplicate rows: {duplicates}\")"
   ]
  },
  {
   "cell_type": "code",
   "execution_count": 14,
   "id": "af88c9ba-762a-43b6-be54-dfcabd96052b",
   "metadata": {},
   "outputs": [
    {
     "name": "stdout",
     "output_type": "stream",
     "text": [
      "Item\n",
      "Lamb gigot chops per kg           102\n",
      "Fresh fillet of plaice per kg     102\n",
      "Fresh fillet of whiting per kg    102\n",
      "Potatoes 10 kg                    102\n",
      "Fresh hake per kg                  57\n",
      "Potatoes 7.5 kg                    36\n",
      "Lamb's liver per kg                21\n",
      "Name: count, dtype: int64\n"
     ]
    }
   ],
   "source": [
    "# Count missing values for each item in the 'Item' column.\n",
    "missing_summary = food[food['Price_euro'].isna()]['Item'].value_counts()\n",
    "print(missing_summary) # Prints the number of missing values per item."
   ]
  },
  {
   "cell_type": "code",
   "execution_count": 15,
   "id": "8844dc1a-0c32-4f0a-9af9-029546a4df87",
   "metadata": {},
   "outputs": [
    {
     "data": {
      "text/html": [
       "<div>\n",
       "<style scoped>\n",
       "    .dataframe tbody tr th:only-of-type {\n",
       "        vertical-align: middle;\n",
       "    }\n",
       "\n",
       "    .dataframe tbody tr th {\n",
       "        vertical-align: top;\n",
       "    }\n",
       "\n",
       "    .dataframe thead th {\n",
       "        text-align: right;\n",
       "    }\n",
       "</style>\n",
       "<table border=\"1\" class=\"dataframe\">\n",
       "  <thead>\n",
       "    <tr style=\"text-align: right;\">\n",
       "      <th></th>\n",
       "      <th>Missing_Count</th>\n",
       "      <th>Total_Count</th>\n",
       "      <th>Missing_Percent</th>\n",
       "    </tr>\n",
       "    <tr>\n",
       "      <th>Item</th>\n",
       "      <th></th>\n",
       "      <th></th>\n",
       "      <th></th>\n",
       "    </tr>\n",
       "  </thead>\n",
       "  <tbody>\n",
       "    <tr>\n",
       "      <th>Lamb gigot chops per kg</th>\n",
       "      <td>102</td>\n",
       "      <td>137</td>\n",
       "      <td>74.452555</td>\n",
       "    </tr>\n",
       "    <tr>\n",
       "      <th>Fresh fillet of plaice per kg</th>\n",
       "      <td>102</td>\n",
       "      <td>137</td>\n",
       "      <td>74.452555</td>\n",
       "    </tr>\n",
       "    <tr>\n",
       "      <th>Fresh fillet of whiting per kg</th>\n",
       "      <td>102</td>\n",
       "      <td>137</td>\n",
       "      <td>74.452555</td>\n",
       "    </tr>\n",
       "    <tr>\n",
       "      <th>Potatoes 10 kg</th>\n",
       "      <td>102</td>\n",
       "      <td>137</td>\n",
       "      <td>74.452555</td>\n",
       "    </tr>\n",
       "    <tr>\n",
       "      <th>Fresh hake per kg</th>\n",
       "      <td>57</td>\n",
       "      <td>137</td>\n",
       "      <td>41.605839</td>\n",
       "    </tr>\n",
       "    <tr>\n",
       "      <th>Potatoes 7.5 kg</th>\n",
       "      <td>36</td>\n",
       "      <td>137</td>\n",
       "      <td>26.277372</td>\n",
       "    </tr>\n",
       "    <tr>\n",
       "      <th>Lamb's liver per kg</th>\n",
       "      <td>21</td>\n",
       "      <td>137</td>\n",
       "      <td>15.328467</td>\n",
       "    </tr>\n",
       "  </tbody>\n",
       "</table>\n",
       "</div>"
      ],
      "text/plain": [
       "                                Missing_Count  Total_Count  Missing_Percent\n",
       "Item                                                                       \n",
       "Lamb gigot chops per kg                   102          137        74.452555\n",
       "Fresh fillet of plaice per kg             102          137        74.452555\n",
       "Fresh fillet of whiting per kg            102          137        74.452555\n",
       "Potatoes 10 kg                            102          137        74.452555\n",
       "Fresh hake per kg                          57          137        41.605839\n",
       "Potatoes 7.5 kg                            36          137        26.277372\n",
       "Lamb's liver per kg                        21          137        15.328467"
      ]
     },
     "execution_count": 15,
     "metadata": {},
     "output_type": "execute_result"
    }
   ],
   "source": [
    "# Counts the total number of rows per item.\n",
    "total_counts = food['Item'].value_counts()\n",
    "\n",
    "# Number of missing values per item (only those with NaNs).\n",
    "missing_counts = food[food['Price_euro'].isna()]['Item'].value_counts()\n",
    "\n",
    "# Creates a DataFrame with both count of NaN's and percentage.\n",
    "missing_summary = pd.DataFrame({\n",
    "    'Missing_Count': missing_counts,\n",
    "    'Total_Count': total_counts[missing_counts.index],\n",
    "})\n",
    "missing_summary['Missing_Percent'] = (missing_summary['Missing_Count'] / missing_summary['Total_Count']) * 100\n",
    "\n",
    "# Sorts the results by descending order.\n",
    "missing_summary = missing_summary.sort_values(by='Missing_Percent', ascending=False)\n",
    "\n",
    "# Shows the result.\n",
    "missing_summary"
   ]
  },
  {
   "cell_type": "markdown",
   "id": "9f43295c-100e-4637-aa51-1c17998041b7",
   "metadata": {},
   "source": [
    "**The missing data are not randomly distributed across the set, but is concentrated in a few items**: \n",
    "- Lamb gigot chops per kg, Fresh fillet of whiting per kg, Fresh fillet of plaice per kg, Potatoes 10 kg were the items with the most NaN values 102, which represents almost 75% of missing data.\n",
    "- Fresh hake per kg, Potatoes 7.5 kg and Lamb's liver per kg still have more than 50% of useful data and further investigation was performed to decide how to handle them.\n",
    "\n",
    "<b> With more than 70% missing data points, Lamb gigot chops per kg, Fresh fillet of whiting per kg, Fresh fillet of plaice per kg, Potatoes 10 kg were erased because even if any attempt to fill the NaN could potentially introduce unnecessary noisy to the analysis</b>. "
   ]
  },
  {
   "cell_type": "code",
   "execution_count": 16,
   "id": "b011ba3e-7697-4396-a82b-c90913e8168c",
   "metadata": {},
   "outputs": [],
   "source": [
    "# Total number of months in the dataset.\n",
    "total_months = food['Month'].nunique()\n",
    "\n",
    "# Calculate the coverage (non-NaN ratio) per item.\n",
    "item_coverage = food.groupby('Item')['Price_euro'].apply(lambda x: x.notna().sum() / total_months)\n",
    "\n",
    "# Keep only items with at least 50% non-missing data.\n",
    "valid_items = item_coverage[item_coverage >= 0.5].index\n",
    "\n",
    "# Filter the main DataFrame.\n",
    "food = food[food['Item'].isin(valid_items)]"
   ]
  },
  {
   "cell_type": "code",
   "execution_count": 17,
   "id": "220ae41c-7618-486c-8461-1a08d78ae046",
   "metadata": {},
   "outputs": [
    {
     "name": "stdout",
     "output_type": "stream",
     "text": [
      "Item\n",
      "Fresh hake per kg                        0.583942\n",
      "Potatoes 7.5 kg                          0.737226\n",
      "Lamb's liver per kg                      0.846715\n",
      "Bananas per kg                           1.000000\n",
      "Broccoli per kg                          1.000000\n",
      "Brown, wholemeal flour per 2 kg          1.000000\n",
      "Bread, brown sliced pan, large (800g)    1.000000\n",
      "Best back rashers per kg                 1.000000\n",
      "Carrots per kg                           1.000000\n",
      "Cooked ham per kg                        1.000000\n",
      "Fresh fillet of cod per kg               1.000000\n",
      "Fresh salmon per kg                      1.000000\n",
      "Full fat milk per 2 litre                1.000000\n",
      "Grapes per kg                            1.000000\n",
      "Butter per lb                            1.000000\n",
      "Bread, white sliced pan, large (800g)    1.000000\n",
      "Irish cheddar per kg                     1.000000\n",
      "Ham fillet per kg                        1.000000\n",
      "Lamb - whole leg / half leg per kg       1.000000\n",
      "Jam per lb                               1.000000\n",
      "Large eggs per half dozen                1.000000\n",
      "Low fat milk per 1 litre                 1.000000\n",
      "Marmalade per lb                         1.000000\n",
      "Lamb loin chops per kg                   1.000000\n",
      "Medium eggs per half dozen               1.000000\n",
      "Mushrooms per kg                         1.000000\n",
      "Orange juice per litre                   1.000000\n",
      "Onions per kg                            1.000000\n",
      "Pork loin chops per kg                   1.000000\n",
      "Pork sausages per kg                     1.000000\n",
      "Pork steak per kg                        1.000000\n",
      "Potatoes 2.5 kg                          1.000000\n",
      "Roast beef - topside or rib per kg       1.000000\n",
      "Sirloin steak per kg                     1.000000\n",
      "Sliced / diced beef pieces per kg        1.000000\n",
      "Smoked salmon per kg                     1.000000\n",
      "Spaghetti per 500g                       1.000000\n",
      "Striploin steak per kg                   1.000000\n",
      "Tea bags per 80                          1.000000\n",
      "Tomatoes per kg                          1.000000\n",
      "Tomatoes tinned per 400g                 1.000000\n",
      "Uncooked chicken medium size 1.6kg       1.000000\n",
      "White granulated sugar per 1 kg          1.000000\n",
      "White, self raising flour per 2 kg       1.000000\n",
      "Name: Price_euro, dtype: float64\n"
     ]
    }
   ],
   "source": [
    "# Recalculate coverage to confirm.\n",
    "item_coverage = food.groupby('Item')['Price_euro'].apply(lambda x: x.notna().mean())\n",
    "\n",
    "# Show the final retained items and their coverage\n",
    "print(item_coverage.sort_values())"
   ]
  },
  {
   "cell_type": "markdown",
   "id": "84b603d0-049e-4e48-aaf2-34f829e1b0c4",
   "metadata": {},
   "source": [
    "- With the four items erased the following step is to examine the Fresh hake per kg, Potatoes 7.5 kg and Lamb's liver per kg. The task is performed by creating line plots to identify the location of the NaN (if they are clustered or random).\n",
    "\n",
    "**Note**: The following line plots serve only to detect missing-value patterns (consecutive NaNs), not to compare price magnitudes across items."
   ]
  },
  {
   "cell_type": "code",
   "execution_count": 18,
   "id": "05c4c8dd-f13d-4988-ba31-eb3d00fa0fd1",
   "metadata": {},
   "outputs": [
    {
     "data": {
      "image/png": "[encoded data removed]",
      "text/plain": [
       "<Figure size 1000x400 with 1 Axes>"
      ]
     },
     "metadata": {},
     "output_type": "display_data"
    },
    {
     "data": {
      "image/png": "[encoded data removed]",
      "text/plain": [
       "<Figure size 1000x400 with 1 Axes>"
      ]
     },
     "metadata": {},
     "output_type": "display_data"
    },
    {
     "data": {
      "image/png": "[encoded data removed]",
      "text/plain": [
       "<Figure size 1000x400 with 1 Axes>"
      ]
     },
     "metadata": {},
     "output_type": "display_data"
    }
   ],
   "source": [
    "\n",
    "# Defines a list with the items to exanime:\n",
    "items_to_check = [\n",
    "    \"Fresh hake per kg\",\n",
    "    \"Potatoes 7.5 kg\",\n",
    "    \"Lamb's liver per kg\"]\n",
    "\n",
    "# Define a color palette \n",
    "colors = ['#1f77b4', '#ff7f0e', '#2ca02c']  # Blue, orange, green.\n",
    "\n",
    "# Loop through each item and corresponding color.\n",
    "for item, color in zip(items_to_check, colors):\n",
    "    # Subset the dataframe for the current item.\n",
    "    subset = food[food['Item'] == item]\n",
    "    plt.figure(figsize=(10, 4)) # Sets the figure. \n",
    "    plt.plot(subset['Date'], subset['Price_euro'], marker='o', color=color) # Plot the price of the items over time. \n",
    "    plt.title(f\"Price Trend: {item}\") # Adds a Title  to the plot.\n",
    "    plt.ylabel(\"Price (€)\") # Sets the Price label.\n",
    "    plt.xlabel(\"Month\") # Sets the Month label.\n",
    "    plt.grid(True) # Add grid in the back of the lineplot to enhance visualization.\n",
    "    ax = plt.gca()\n",
    "    ax.xaxis.set_major_locator(mdates.MonthLocator(interval=6))  # show one tick every 6 months.\n",
    "    ax.xaxis.set_major_formatter(mdates.DateFormatter(\"%Y-%b\"))  # format to \"2024-Jan\".\n",
    "    plt.xticks(rotation=45) # Rotates x-laabels in 45º.\n",
    "    plt.tight_layout() # Plots to fit the layout.\n",
    "    plt.show() # Display the plot."
   ]
  },
  {
   "cell_type": "markdown",
   "id": "e9158673-9155-45f8-bfe7-e416fb0d5f27",
   "metadata": {},
   "source": [
    "##### Fresh hake per kg, Potatoes 7.5 kg and Lamb's liver per kg NaN analysis:\n",
    "\n",
    "- All three items have missing values clustered in a certain period, the fresh hake (missing from 2015 to 2017 and from 2020 to 2022), The potatoes 7.5 Kg (missing from 2014 to 2017), The lamb's liver (missing from early 2020 to early 2022).\n",
    "\n",
    "<b> The three items have long consecutive gaps and to fill the gaps by interpolation, machine learning techniques could potentially distort future anylysis or mathematical/statistical calculations. Therefore, the items were also erased from the analysis</b>.\n",
    "\n",
    "- The excluded items still have a \"representant\" in the list, the Lamb has other type of cuts, potatoes with other measures (2.5 Kg) and Hake with other type of fish. "
   ]
  },
  {
   "cell_type": "code",
   "execution_count": 19,
   "id": "e9d0e33e-ca62-435d-9898-83a8396ccd20",
   "metadata": {},
   "outputs": [],
   "source": [
    "# Define a list of items to drop due to consecutive missing values.\n",
    "drop_items = [\"Fresh hake per kg\", \"Lamb's liver per kg\", \"Potatoes 7.5 kg\"]\n",
    "\n",
    "# Filter the DataFrame to exclude rows where 'Consumer Item' is in the drop list.\n",
    "# The ~ operator negates the condition, keeping rows that are NOT in drop_items list.\n",
    "food = food[~food['Item'].isin(drop_items)]"
   ]
  },
  {
   "cell_type": "code",
   "execution_count": 20,
   "id": "4b66c98b-4d2d-450b-84eb-ad2e7ad997a8",
   "metadata": {
    "scrolled": true
   },
   "outputs": [
    {
     "name": "stdout",
     "output_type": "stream",
     "text": [
      "📋 List of Unique Food Items:\n",
      "\n",
      "- Bananas per kg\n",
      "- Best back rashers per kg\n",
      "- Bread, brown sliced pan, large (800g)\n",
      "- Bread, white sliced pan, large (800g)\n",
      "- Broccoli per kg\n",
      "- Brown, wholemeal flour per 2 kg\n",
      "- Butter per lb\n",
      "- Carrots per kg\n",
      "- Cooked ham per kg\n",
      "- Fresh fillet of cod per kg\n",
      "- Fresh salmon per kg\n",
      "- Full fat milk per 2 litre\n",
      "- Grapes per kg\n",
      "- Ham fillet per kg\n",
      "- Irish cheddar per kg\n",
      "- Jam per lb\n",
      "- Lamb - whole leg / half leg per kg\n",
      "- Lamb loin chops per kg\n",
      "- Large eggs per half dozen\n",
      "- Low fat milk per 1 litre\n",
      "- Marmalade per lb\n",
      "- Medium eggs per half dozen\n",
      "- Mushrooms per kg\n",
      "- Onions per kg\n",
      "- Orange juice per litre\n",
      "- Pork loin chops per kg\n",
      "- Pork sausages per kg\n",
      "- Pork steak per kg\n",
      "- Potatoes 2.5 kg\n",
      "- Roast beef - topside or rib per kg\n",
      "- Sirloin steak per kg\n",
      "- Sliced / diced beef pieces per kg\n",
      "- Smoked salmon per kg\n",
      "- Spaghetti per 500g\n",
      "- Striploin steak per kg\n",
      "- Tea bags per 80\n",
      "- Tomatoes per kg\n",
      "- Tomatoes tinned per 400g\n",
      "- Uncooked chicken medium size 1.6kg\n",
      "- White granulated sugar per 1 kg\n",
      "- White, self raising flour per 2 kg\n",
      "\n",
      "🔢 Total Number of Unique Food Items: 41\n"
     ]
    }
   ],
   "source": [
    "# Extract all unique items from the 'Consumer Item' column.\n",
    "unique_items = food['Item'].unique()\n",
    "\n",
    "# Sort the list alphabetically for easier readability.\n",
    "sorted_items = sorted(unique_items)\n",
    "\n",
    "# Print each unique item.\n",
    "print(\"📋 List of Unique Food Items:\\n\")\n",
    "for item in sorted_items:\n",
    "    print(\"-\", item)\n",
    "\n",
    "# Print the total count of unique food items.\n",
    "print(f\"\\n🔢 Total Number of Unique Food Items: {len(sorted_items)}\")"
   ]
  },
  {
   "cell_type": "markdown",
   "id": "0bbbcedd-4932-4e9d-8db5-00667b408dd3",
   "metadata": {},
   "source": [
    "#### Validation\n",
    "\n",
    "- The following section will validate the actions taken to handle missing values, as well as review the overall data preparation and cleaning process. The resuls are presented in a table format after the validation codes. "
   ]
  },
  {
   "cell_type": "code",
   "execution_count": 21,
   "id": "f830368c-e167-4fb9-946d-c07c86328aa3",
   "metadata": {},
   "outputs": [
    {
     "data": {
      "text/plain": [
       "Month         0\n",
       "Item          0\n",
       "Price_euro    0\n",
       "Date          0\n",
       "Year          0\n",
       "Month_num     0\n",
       "dtype: int64"
      ]
     },
     "execution_count": 21,
     "metadata": {},
     "output_type": "execute_result"
    }
   ],
   "source": [
    "# Returns the sum of NaN-values in all columns in the table.\n",
    "food.isna().sum()"
   ]
  },
  {
   "cell_type": "code",
   "execution_count": 22,
   "id": "360214fc-2cac-41a8-9478-76aa50f08701",
   "metadata": {},
   "outputs": [
    {
     "name": "stdout",
     "output_type": "stream",
     "text": [
      "<class 'pandas.core.frame.DataFrame'>\n",
      "Index: 5617 entries, 0 to 6575\n",
      "Data columns (total 6 columns):\n",
      " #   Column      Non-Null Count  Dtype         \n",
      "---  ------      --------------  -----         \n",
      " 0   Month       5617 non-null   object        \n",
      " 1   Item        5617 non-null   object        \n",
      " 2   Price_euro  5617 non-null   float64       \n",
      " 3   Date        5617 non-null   datetime64[ns]\n",
      " 4   Year        5617 non-null   int32         \n",
      " 5   Month_num   5617 non-null   int32         \n",
      "dtypes: datetime64[ns](1), float64(1), int32(2), object(2)\n",
      "memory usage: 263.3+ KB\n"
     ]
    }
   ],
   "source": [
    "# Displays the info of the table, similiar to schema.\n",
    "food.info()"
   ]
  },
  {
   "cell_type": "code",
   "execution_count": 23,
   "id": "3d581ef7-ee02-4f1d-af3d-9340815261f3",
   "metadata": {},
   "outputs": [
    {
     "name": "stdout",
     "output_type": "stream",
     "text": [
      "Item\n",
      "Bananas per kg                           1.0\n",
      "Best back rashers per kg                 1.0\n",
      "Bread, brown sliced pan, large (800g)    1.0\n",
      "Bread, white sliced pan, large (800g)    1.0\n",
      "Broccoli per kg                          1.0\n",
      "Brown, wholemeal flour per 2 kg          1.0\n",
      "Butter per lb                            1.0\n",
      "Carrots per kg                           1.0\n",
      "Cooked ham per kg                        1.0\n",
      "Fresh fillet of cod per kg               1.0\n",
      "Fresh salmon per kg                      1.0\n",
      "Full fat milk per 2 litre                1.0\n",
      "Grapes per kg                            1.0\n",
      "Ham fillet per kg                        1.0\n",
      "Irish cheddar per kg                     1.0\n",
      "Jam per lb                               1.0\n",
      "Lamb - whole leg / half leg per kg       1.0\n",
      "Lamb loin chops per kg                   1.0\n",
      "Large eggs per half dozen                1.0\n",
      "Low fat milk per 1 litre                 1.0\n",
      "Marmalade per lb                         1.0\n",
      "Medium eggs per half dozen               1.0\n",
      "Mushrooms per kg                         1.0\n",
      "Onions per kg                            1.0\n",
      "Orange juice per litre                   1.0\n",
      "Pork loin chops per kg                   1.0\n",
      "Pork sausages per kg                     1.0\n",
      "Pork steak per kg                        1.0\n",
      "Potatoes 2.5 kg                          1.0\n",
      "Roast beef - topside or rib per kg       1.0\n",
      "Sirloin steak per kg                     1.0\n",
      "Sliced / diced beef pieces per kg        1.0\n",
      "Smoked salmon per kg                     1.0\n",
      "Spaghetti per 500g                       1.0\n",
      "Striploin steak per kg                   1.0\n",
      "Tea bags per 80                          1.0\n",
      "Tomatoes per kg                          1.0\n",
      "Tomatoes tinned per 400g                 1.0\n",
      "Uncooked chicken medium size 1.6kg       1.0\n",
      "White granulated sugar per 1 kg          1.0\n",
      "White, self raising flour per 2 kg       1.0\n",
      "Name: Price_euro, dtype: float64\n"
     ]
    }
   ],
   "source": [
    "# Recalculate coverage to confirm.\n",
    "item_coverage = food.groupby('Item')['Price_euro'].apply(lambda x: x.notna().mean())\n",
    "\n",
    "# Show the final retained items and their coverage.\n",
    "print(item_coverage.sort_values())"
   ]
  },
  {
   "cell_type": "code",
   "execution_count": 24,
   "id": "b7dda0b5-a690-4339-b91e-6172414de45e",
   "metadata": {},
   "outputs": [
    {
     "name": "stdout",
     "output_type": "stream",
     "text": [
      "First date in dataset: 2014-01-01 00:00:00\n",
      "Last date in dataset: 2025-05-01 00:00:00\n",
      "✅ No missing months in the time series.\n"
     ]
    }
   ],
   "source": [
    "# Prints the first date record.\n",
    "print(f\"First date in dataset: {food['Date'].min()}\")\n",
    "# Prints the last date record.\n",
    "print(f\"Last date in dataset: {food['Date'].max()}\")\n",
    "\n",
    "# Checking if there are no missing months in the time series. \n",
    "expected_months = pd.date_range(start=food['Date'].min(), end=food['Date'].max(), freq=\"MS\")\n",
    "actual_months = food['Date'].unique()\n",
    "missing_months = set(expected_months) - set(pd.to_datetime(actual_months))\n",
    "# It will print the results based on the observation of missing months. \n",
    "if len(missing_months) == 0:\n",
    "    print(\"✅ No missing months in the time series.\")\n",
    "else:\n",
    "    print(f\"⚠️ Missing months detected: {missing_months}\")"
   ]
  },
  {
   "cell_type": "markdown",
   "id": "34314401-4a5c-48d4-99dd-8340a4bbda1d",
   "metadata": {},
   "source": [
    "- The validation stage showed that the columns are in the desired format and the dataset has no longer missing values.\n",
    "- By excluding items with NaN values, the number of items reduced from 48 to 41.\n",
    "- The data coverage of each food item is 100%.\n",
    "- No missing time-series data. \n",
    "\n",
    "---\n",
    "\n",
    "#### 3. Unit Standardization\n",
    "\n",
    "After performing a thorough missing values assessment, the dataset is ready for the next stage and most important cleaning phase. The dataset still contains **heterogeneous measurement units** for food prices. Items are recorded in a mix of units such as “per 2 kg”, “per 500g”, “per lb”, “per litre”, and even per quantity (like half dozen eggs or 80 tea bags). Such inconsistency makes it challenging to compare prices directly across items or over time.\n",
    "\n",
    "From a data analytics perspective, the ability to compare food prices in a standardized way is crucial to accurately measure affordability trends. Therefore, the next step is to apply a **unit standardization process**. The process will transform all prices to a consistent denominator: **euro per kilogram (for solids) or euro per litre (for liquids)**. The choice is motivated by the fact that kilograms and litres are the standard international SI units, and match most published economic and nutritional benchmarks. Items sold in counts (e.g., eggs or teabags) will retain their unit prices as there is no standard mass equivalent relevant to consumption in this analysis.\n",
    "\n",
    "**3.1 Conversion Factors Documentation**\n",
    "\n",
    "Below are the reference tables that guided the unit standardization process. These definitions ensure that food prices can be compared consistently across categories and time.\n",
    "\n",
    "| Consumer Item                         | Unit embedded                   |\n",
    "| ------------------------------------- | ------------------------------- |\n",
    "| White, self raising flour per 2 kg    | 2 kg                            |\n",
    "| Brown, wholemeal flour per 2 kg       | 2 kg                            |\n",
    "| Bread, white sliced pan, large (800g) | 800 g                           |\n",
    "| Bread, brown sliced pan, large (800g) | 800 g                           |\n",
    "| Spaghetti per 500g                    | 500 g                           |\n",
    "| Sirloin steak per kg                  | kg                              |\n",
    "| Striploin steak per kg                | kg                              |\n",
    "| Roast beef - topside or rib per kg    | kg                              |\n",
    "| Sliced / diced beef pieces per kg     | kg                              |\n",
    "| Pork loin chops per kg                | kg                              |\n",
    "| Pork steak per kg                     | kg                              |\n",
    "| Lamb - whole leg / half leg per kg    | kg                              |\n",
    "| Lamb loin chops per kg                | kg                              |\n",
    "| Uncooked chicken medium size 1.6kg    | 1.6 kg whole                    |\n",
    "| Ham fillet per kg                     | kg                              |\n",
    "| Cooked ham per kg                     | kg                              |\n",
    "| Best back rashers per kg              | kg                              |\n",
    "| Pork sausages per kg                  | kg                              |\n",
    "| Fresh fillet of cod per kg            | kg                              |\n",
    "| Fresh salmon per kg                   | kg                              |\n",
    "| Smoked salmon per kg                  | kg                              |\n",
    "| Full fat milk per 2 litre             | 2 litres                        |\n",
    "| Low fat milk per 1 litre              | 1 litre                         |\n",
    "| Irish cheddar per kg                  | kg                              |\n",
    "| Large eggs per half dozen             | 6 eggs                          |\n",
    "| Medium eggs per half dozen            | 6 eggs                          |\n",
    "| Butter per lb                         | 0.454 kg (1 lb)                 |\n",
    "| Grapes per kg                         | kg                              |\n",
    "| Bananas per kg                        | kg                              |\n",
    "| Tomatoes per kg                       | kg                              |\n",
    "| Onions per kg                         | kg                              |\n",
    "| Broccoli per kg                       | kg                              |\n",
    "| Carrots per kg                        | kg                              |\n",
    "| Mushrooms per kg                      | kg                              |\n",
    "| Tomatoes tinned per 400g              | 400 g                           |\n",
    "| Potatoes 2.5 kg                       | 2.5 kg                          |\n",
    "| White granulated sugar per 1 kg       | kg                              |\n",
    "| Jam per lb                            | 0.454 kg                        |\n",
    "| Marmalade per lb                      | 0.454 kg                        |\n",
    "| Tea bags per 80                       | 80 tea bags (categorical count) |\n",
    "| Orange juice per litre                | 1 litre                         |\n",
    "\n",
    "*Note: Items sold by unit count (eggs, tea bags) were not standardized because they are priced per unit rather than by weight or volume.*\n",
    "\n",
    "---\n",
    "\n",
    "**3.2 Conversion Factors**\n",
    "\n",
    "| Item Example              | Conversion factor applied   |\n",
    "| ------------------------- | --------------------------- |\n",
    "| 2 kg flour                | price / 2                   |\n",
    "| 800g bread                | price / 0.8                 |\n",
    "| 500g spaghetti            | price / 0.5                 |\n",
    "| 1.6kg chicken             | price / 1.6                 |\n",
    "| 400g tinned tomatoes      | price / 0.4                 |\n",
    "| butter 1 lb (0.454 kg)    | price / 0.454               |\n",
    "| jam/marmalade per lb      | price / 0.454               |\n",
    "| potatoes 2.5 kg           | price / 2.5                 |\n",
    "| everything already per kg | price / 1                   |\n",
    "| milk 2 litres             | price / 2                   |\n",
    "| eggs (6)                  | leave as it is              |\n",
    "| tea bags (80)             | leave as it is              |\n",
    "| orange juice per litre    | leave as it is              |\n",
    "\n",
    "**3.3 Why kilograms and litres?**\n",
    "\n",
    "Kilograms (kg) and litres (l) are the International System of Units (SI) standard measurements for mass and volume, respectively. These units are globally accepted for food pricing and nutritional analysis because they allow clear aggregation, comparison, and conversion across virtually all product categories. Reporting in euro per kg or euro per litre aligns with best practices in economic, agricultural, and public health datasets.\n",
    "\n",
    "The SI Brochure published by the International Bureau of Weights and Measures (BIPM) lays the foundation for using kilograms and litres as official units:  \n",
    "- **BIPM SI Brochure (9th Edition, 2019):**  \n",
    "  [https://www.bipm.org/en/publications/si-brochure](https://www.bipm.org/en/publications/si-brochure)"
   ]
  },
  {
   "cell_type": "code",
   "execution_count": 25,
   "id": "a1d086a4-6ab9-4112-9116-94753d481eff",
   "metadata": {},
   "outputs": [
    {
     "data": {
      "text/html": [
       "<div>\n",
       "<style scoped>\n",
       "    .dataframe tbody tr th:only-of-type {\n",
       "        vertical-align: middle;\n",
       "    }\n",
       "\n",
       "    .dataframe tbody tr th {\n",
       "        vertical-align: top;\n",
       "    }\n",
       "\n",
       "    .dataframe thead th {\n",
       "        text-align: right;\n",
       "    }\n",
       "</style>\n",
       "<table border=\"1\" class=\"dataframe\">\n",
       "  <thead>\n",
       "    <tr style=\"text-align: right;\">\n",
       "      <th></th>\n",
       "      <th>Item</th>\n",
       "      <th>Price_euro</th>\n",
       "      <th>conversion_factor</th>\n",
       "      <th>Price_per_kg_or_litre</th>\n",
       "    </tr>\n",
       "  </thead>\n",
       "  <tbody>\n",
       "    <tr>\n",
       "      <th>0</th>\n",
       "      <td>White, self raising flour per 2 kg</td>\n",
       "      <td>2.308</td>\n",
       "      <td>0.5</td>\n",
       "      <td>1.1540</td>\n",
       "    </tr>\n",
       "    <tr>\n",
       "      <th>1</th>\n",
       "      <td>Brown, wholemeal flour per 2 kg</td>\n",
       "      <td>2.971</td>\n",
       "      <td>0.5</td>\n",
       "      <td>1.4855</td>\n",
       "    </tr>\n",
       "    <tr>\n",
       "      <th>2</th>\n",
       "      <td>Bread, white sliced pan, large (800g)</td>\n",
       "      <td>1.289</td>\n",
       "      <td>1.0</td>\n",
       "      <td>1.2890</td>\n",
       "    </tr>\n",
       "    <tr>\n",
       "      <th>3</th>\n",
       "      <td>Bread, brown sliced pan, large (800g)</td>\n",
       "      <td>1.532</td>\n",
       "      <td>1.0</td>\n",
       "      <td>1.5320</td>\n",
       "    </tr>\n",
       "    <tr>\n",
       "      <th>4</th>\n",
       "      <td>Spaghetti per 500g</td>\n",
       "      <td>1.105</td>\n",
       "      <td>2.0</td>\n",
       "      <td>2.2100</td>\n",
       "    </tr>\n",
       "    <tr>\n",
       "      <th>5</th>\n",
       "      <td>Sirloin steak per kg</td>\n",
       "      <td>16.287</td>\n",
       "      <td>1.0</td>\n",
       "      <td>16.2870</td>\n",
       "    </tr>\n",
       "    <tr>\n",
       "      <th>6</th>\n",
       "      <td>Striploin steak per kg</td>\n",
       "      <td>23.129</td>\n",
       "      <td>1.0</td>\n",
       "      <td>23.1290</td>\n",
       "    </tr>\n",
       "    <tr>\n",
       "      <th>7</th>\n",
       "      <td>Roast beef - topside or rib per kg</td>\n",
       "      <td>13.418</td>\n",
       "      <td>1.0</td>\n",
       "      <td>13.4180</td>\n",
       "    </tr>\n",
       "    <tr>\n",
       "      <th>8</th>\n",
       "      <td>Sliced / diced beef pieces per kg</td>\n",
       "      <td>10.585</td>\n",
       "      <td>1.0</td>\n",
       "      <td>10.5850</td>\n",
       "    </tr>\n",
       "    <tr>\n",
       "      <th>9</th>\n",
       "      <td>Pork loin chops per kg</td>\n",
       "      <td>8.116</td>\n",
       "      <td>1.0</td>\n",
       "      <td>8.1160</td>\n",
       "    </tr>\n",
       "  </tbody>\n",
       "</table>\n",
       "</div>"
      ],
      "text/plain": [
       "                                    Item  Price_euro  conversion_factor  \\\n",
       "0     White, self raising flour per 2 kg       2.308                0.5   \n",
       "1        Brown, wholemeal flour per 2 kg       2.971                0.5   \n",
       "2  Bread, white sliced pan, large (800g)       1.289                1.0   \n",
       "3  Bread, brown sliced pan, large (800g)       1.532                1.0   \n",
       "4                     Spaghetti per 500g       1.105                2.0   \n",
       "5                   Sirloin steak per kg      16.287                1.0   \n",
       "6                 Striploin steak per kg      23.129                1.0   \n",
       "7     Roast beef - topside or rib per kg      13.418                1.0   \n",
       "8      Sliced / diced beef pieces per kg      10.585                1.0   \n",
       "9                 Pork loin chops per kg       8.116                1.0   \n",
       "\n",
       "   Price_per_kg_or_litre  \n",
       "0                 1.1540  \n",
       "1                 1.4855  \n",
       "2                 1.2890  \n",
       "3                 1.5320  \n",
       "4                 2.2100  \n",
       "5                16.2870  \n",
       "6                23.1290  \n",
       "7                13.4180  \n",
       "8                10.5850  \n",
       "9                 8.1160  "
      ]
     },
     "execution_count": 25,
     "metadata": {},
     "output_type": "execute_result"
    }
   ],
   "source": [
    "# Defining conversion factors.\n",
    "\n",
    "# Items that use explicit standard conversion factors key is a substring to match in 'Item'.\n",
    "conversion_factors = {\n",
    "    \"per 2 kg\": 1/2,                    # price per kg.\n",
    "    \"per 2 litre\": 1/2,                 # price per litre.\n",
    "    \"per 1 litre\": 1/1,                 # Same measure.\n",
    "    \"per 800g\": 1/0.8,                  # price per kg.\n",
    "    \"per 500g\": 1/0.5,\n",
    "    \"per 400g\": 1/0.4,\n",
    "    \"1.6kg\": 1/1.6,\n",
    "    \"per 1 kg\": 1/1,                    # per kg.\n",
    "    \"per kg\": 1/1,                      # per kg.\n",
    "    \"per lb\": 1/0.454,                  # pounds to kg.\n",
    "    \"2.5 kg\": 1/2.5,\n",
    "    \"per half dozen\": 1,                # leave as it is fir the eggs. \n",
    "    \"per 80\": 1,                        # Leave as it is for the teas.\n",
    "    \"per litre\": 1/1}                   # default for juice (1L).\n",
    "\n",
    "# Apply conversion factors.\n",
    "# Defines a helper function.\n",
    "def get_conversion(item_name):\n",
    "    \"\"\"\n",
    "    Maps an item name to its conversion factor to a per kg or per litre price.\n",
    "    Defaults to 1 if no match found (e.g. tea bags, eggs).\n",
    "    \"\"\"\n",
    "    for key, factor in conversion_factors.items():\n",
    "        if key in item_name:\n",
    "            return factor\n",
    "    return 1   # Default no conversion needed.\n",
    "\n",
    "# Apply the factor.\n",
    "food[\"conversion_factor\"] = food[\"Item\"].apply(get_conversion)\n",
    "\n",
    "# New standardized price.\n",
    "food[\"Price_per_kg_or_litre\"] = food[\"Price_euro\"] * food[\"conversion_factor\"]\n",
    "\n",
    "# Preview the results. \n",
    "food[[\"Item\", \"Price_euro\", \"conversion_factor\", \"Price_per_kg_or_litre\"]].head(10)"
   ]
  },
  {
   "cell_type": "markdown",
   "id": "fdc93c04-c03b-434d-8d43-e3f4117348bd",
   "metadata": {},
   "source": [
    "#### Unit Conversion Summary\n",
    "\n",
    "The following unit conversions were applied:\n",
    "\n",
    "| Pattern                  | Meaning                          | What happened?                 |\n",
    "|--------------------------|----------------------------------|--------------------------------|\n",
    "| `per 2 kg`                           | Price per 2 kg.                   | divided by 2 to get €/kg.                 |\n",
    "| `per 800 g`                          | Price per 0.8 kg.                 | divided by 0.8 to get €/kg.               |\n",
    "| `per 500 g`                          | Price per 0.5 kg.                 | divided by 0.5 to get €/kg.               |\n",
    "| `per 2 litres`                       | Price per 2 litres.               | divided by 2 to get €/litre.              |\n",
    "| `per 1 litre`                        | Price per 1 litre.               | no change.                                |\n",
    "| `per 1.6 kg`                         | Price per 1.6 kg (whole chicken). | divided by 1.6 to get €/kg.               |\n",
    "| `per half dozen`                     | Price per 6 eggs.                 | kept as is (categorical count, no change).|\n",
    "| `per lb`                             | Price per 0.454 kg.               | divided by 0.454 to get €/kg.             |\n",
    "| `per 400 g`                          | Price per 0.4 kg.                 | divided by 0.4 to get €/kg.               |\n",
    "| `per 2.5 kg`                         | Price per 2.5 kg.                 | divided by 2.5 to get €/kg.               |\n",
    "| `per 80 tea bags`                    | Price for 80 tea bags.            | kept as is (categorical count, no change).|\n",
    "| `per kg`                             | Price per kg.                     | no change.                                |\n",
    "\n",
    "**Notes:**\n",
    "- Egg prices (per half dozen) and tea bag prices (per 80) were left **unchanged** because their count units do not easily convert to weight-based €/kg.\n",
    "- These conversions were applied to ensure consistent €/kg or €/litre units, enabling a fair affordability analysis.\n",
    "- A descriptive statistics check on the converted price column was performed to confirm if the values are within realistic ranges for food pricing, ensuring no conversion errors."
   ]
  },
  {
   "cell_type": "code",
   "execution_count": 26,
   "id": "06cb2cca-c778-4d09-af15-3e6f4070f4bc",
   "metadata": {},
   "outputs": [
    {
     "name": "stdout",
     "output_type": "stream",
     "text": [
      "count    5617.000000\n",
      "mean        7.092313\n",
      "std         7.421632\n",
      "min         0.839000\n",
      "25%         1.514400\n",
      "50%         3.512000\n",
      "75%        10.399000\n",
      "max        38.015000\n",
      "Name: Price_per_kg_or_litre, dtype: float64\n"
     ]
    }
   ],
   "source": [
    "# Price summary statistics.\n",
    "print(food[\"Price_per_kg_or_litre\"].describe())"
   ]
  },
  {
   "cell_type": "code",
   "execution_count": 27,
   "id": "79b29d1b-5719-47d1-bf5c-7331ba4f91c8",
   "metadata": {},
   "outputs": [
    {
     "data": {
      "image/png": "[encoded data removed]",
      "text/plain": [
       "<Figure size 640x480 with 1 Axes>"
      ]
     },
     "metadata": {},
     "output_type": "display_data"
    }
   ],
   "source": [
    "# Plot a histogram to inspect the distribution of standardized food prices.\n",
    "plt.hist(\n",
    "    food['Price_per_kg_or_litre'],  # Use the standardized price column (€/kg or L).\n",
    "    bins=30,                        # Divide the range into 30 bins.\n",
    "    edgecolor='black')              # Add black borders to each bar for visual clarity.\n",
    "\n",
    "# Set the title of the plot\n",
    "plt.title(\"Distribution of Standardized Prices (€/kg or L)\")\n",
    "# Label the x-axis and y-axis.\n",
    "plt.xlabel(\"Price\")                # X-axis represents price values (€/kg or L).\n",
    "plt.ylabel(\"Frequency\")           # Y-axis represents the count of occurrences per bin.\n",
    "# Add a grid to improve readability.\n",
    "plt.grid(True)                     # Help viewers align bar height with axis ticks.\n",
    "# Automatically adjust subplot layout to avoid overlapping elements.\n",
    "plt.tight_layout()                 # Prevents title/labels from being cut off.\n",
    "# Display the plot.\n",
    "plt.show()\n"
   ]
  },
  {
   "cell_type": "markdown",
   "id": "d9a8eeca-b993-4931-abcf-d03efbe64fee",
   "metadata": {},
   "source": [
    "### 📊 Validation Check: Price Distribution (€/kg or L)\n",
    "\n",
    "To confirm that all price values have been correctly standardized and fall within a reasonable range, the distribution below visualizes all cleaned prices (€/kg or €/L).\n",
    "\n",
    "This helps identify potential outliers or unit conversion issues that might have occurred during the cleaning process.\n",
    "\n",
    "🧮 Observation:\n",
    "- The majority of food items fall between **€1 and €10 per kg/L**, as expected.\n",
    "- A long right tail represents high-cost items like premium-meats, daily-basis proteins.\n",
    "- No negative or extreme outlier prices detected — cleaning step confirmed successful."
   ]
  },
  {
   "cell_type": "code",
   "execution_count": 28,
   "id": "e2c460f9-224d-4aee-9308-ee2fd7b9d01c",
   "metadata": {},
   "outputs": [
    {
     "name": "stdout",
     "output_type": "stream",
     "text": [
      "Examples for 2023 May:\n",
      "                                    Item  Price_euro  Price_per_kg_or_litre\n",
      "5380                  Spaghetti per 500g       1.457                2.91400\n",
      "5390  Uncooked chicken medium size 1.6kg       5.770                3.60625\n",
      "5415            Tomatoes tinned per 400g       1.056                2.64000\n"
     ]
    }
   ],
   "source": [
    "# Showcase 3 examples before and after unit standardization.\n",
    "example_items = [\n",
    "    \"Spaghetti per 500g\",\n",
    "    \"Tomatoes tinned per 400g\",\n",
    "    \"Uncooked chicken medium size 1.6kg\"]\n",
    "\n",
    "# Pick a single snapshot month for clarity.\n",
    "example_month = \"2023 May\"\n",
    "\n",
    "# Filter exactly for that month.\n",
    "snapshot = food[\n",
    "    (food[\"Item\"].isin(example_items)) &\n",
    "    (food[\"Month\"] == example_month)][[\"Item\", \"Price_euro\", \"Price_per_kg_or_litre\"]]\n",
    "\n",
    "# Display before and after clearly.\n",
    "print(f\"Examples for {example_month}:\")\n",
    "print(snapshot)"
   ]
  },
  {
   "cell_type": "markdown",
   "id": "e061e4a6-cb9a-4393-9141-258f6b42d25f",
   "metadata": {},
   "source": [
    "- As a final validation step, the cleaned dataset is reviewed for shape, data types, and a sample of the first rows to confirm readiness for further exploratory analysis."
   ]
  },
  {
   "cell_type": "code",
   "execution_count": 29,
   "id": "01e7de2e-c044-40a4-9752-4fcf7f8584cd",
   "metadata": {},
   "outputs": [
    {
     "name": "stdout",
     "output_type": "stream",
     "text": [
      "(5617, 8)\n",
      "<class 'pandas.core.frame.DataFrame'>\n",
      "Index: 5617 entries, 0 to 6575\n",
      "Data columns (total 8 columns):\n",
      " #   Column                 Non-Null Count  Dtype         \n",
      "---  ------                 --------------  -----         \n",
      " 0   Month                  5617 non-null   object        \n",
      " 1   Item                   5617 non-null   object        \n",
      " 2   Price_euro             5617 non-null   float64       \n",
      " 3   Date                   5617 non-null   datetime64[ns]\n",
      " 4   Year                   5617 non-null   int32         \n",
      " 5   Month_num              5617 non-null   int32         \n",
      " 6   conversion_factor      5617 non-null   float64       \n",
      " 7   Price_per_kg_or_litre  5617 non-null   float64       \n",
      "dtypes: datetime64[ns](1), float64(3), int32(2), object(2)\n",
      "memory usage: 351.1+ KB\n",
      "None\n",
      "          Month                                   Item  Price_euro       Date  \\\n",
      "0  2014 January     White, self raising flour per 2 kg       2.308 2014-01-01   \n",
      "1  2014 January        Brown, wholemeal flour per 2 kg       2.971 2014-01-01   \n",
      "2  2014 January  Bread, white sliced pan, large (800g)       1.289 2014-01-01   \n",
      "3  2014 January  Bread, brown sliced pan, large (800g)       1.532 2014-01-01   \n",
      "4  2014 January                     Spaghetti per 500g       1.105 2014-01-01   \n",
      "\n",
      "   Year  Month_num  conversion_factor  Price_per_kg_or_litre  \n",
      "0  2014          1                0.5                 1.1540  \n",
      "1  2014          1                0.5                 1.4855  \n",
      "2  2014          1                1.0                 1.2890  \n",
      "3  2014          1                1.0                 1.5320  \n",
      "4  2014          1                2.0                 2.2100  \n"
     ]
    }
   ],
   "source": [
    "# Final validation.\n",
    "print(food.shape)\n",
    "print(food.info())\n",
    "print(food.head())"
   ]
  },
  {
   "cell_type": "markdown",
   "id": "6bb0fc8f-bc69-4c5e-9440-05cf9ccc224e",
   "metadata": {},
   "source": [
    "### ⏱️ Time Series Structure Check\n",
    "\n",
    "Although this project is not focused on forecasting, many of the analyses rely on the assumption that price data is consistently recorded on a monthly basis.\n",
    "\n",
    "Before proceeding with exploratory time series analysis, a structural check is performed to ensure that:\n",
    "- Each food item has one price recorded per month.\n",
    "- There are no missing or duplicated months.\n",
    "- The time series are regular and complete.\n",
    "\n",
    "This validation step ensures that trend and seasonality patterns can be explored reliably in the next (EDA) notebook."
   ]
  },
  {
   "cell_type": "code",
   "execution_count": 30,
   "id": "a04d2ded-c788-44af-a01d-8c09c27cac8c",
   "metadata": {},
   "outputs": [
    {
     "name": "stdout",
     "output_type": "stream",
     "text": [
      "Items with missing monthly data:\n",
      "\n",
      "Series([], dtype: int64)\n",
      "\n",
      "--------------------------------------------------\n",
      "\n",
      "Duplicated rows per (Date, Item): 0\n"
     ]
    }
   ],
   "source": [
    "# Pivot the data: rows = Date, columns = Item, values = price\n",
    "pivot_food = food.pivot_table(index=\"Date\", columns=\"Item\", values=\"Price_per_kg_or_litre\")\n",
    "\n",
    "# Check how many months exist per item\n",
    "monthly_counts = pivot_food.count()\n",
    "\n",
    "# Total number of unique months in the dataset\n",
    "total_months = pivot_food.shape[0]\n",
    "\n",
    "# Compare: which items have less than full monthly coverage\n",
    "incomplete_items = monthly_counts[monthly_counts < total_months]\n",
    "\n",
    "# Displays the results.\n",
    "print(\"Items with missing monthly data:\\n\")\n",
    "print(incomplete_items.sort_values())\n",
    "\n",
    "print(\"\\n\" + \"-\"*50 + \"\\n\")  # Horizontal separator\n",
    "\n",
    "# Check for duplicated months for each item\n",
    "duplicates = food.duplicated(subset=[\"Date\", \"Item\"], keep=False)\n",
    "print(\"Duplicated rows per (Date, Item):\", duplicates.sum())"
   ]
  },
  {
   "cell_type": "markdown",
   "id": "2dd41f8d-30ef-4448-824c-506d239cff81",
   "metadata": {},
   "source": [
    "### 🧼 Data Cleaning Summary Table\n",
    "\n",
    "The table below summarizes all the key cleaning steps applied to the dataset, including rationale and outcomes. After completing this process, the dataset is now fully structured, free of missing data, and ready for further analysis.\n",
    "\n",
    "| Step | Action                                                                 | Rationale                                                                           | Outcome / Notes                                                                                  |\n",
    "|------|------------------------------------------------------------------------|-------------------------------------------------------------------------------------|--------------------------------------------------------------------------------------------------|\n",
    "| 1    | **Initial Filtering**: Selected only food and non-alcoholic items      | Focused the analysis on relevant food prices, excluding unrelated categories         | Reduced dataset scope, keeping only food-relevant records                                        |\n",
    "| 2    | **Initial Inspection**: Checked dimensions, previewed head/tail, dtypes | Established basic data understanding and identified any immediate structural issues  | Understood data shape, column types, no surprises                                               |\n",
    "| 3    | **Column Removal**: Dropped `STATISTIC Label`                          | Column was constant (“National Average Price”) and added no analytical value         | Removed redundant information                                                                    |\n",
    "| 4    | **Column Renaming**: Standardized column names                         | Improved readability and ensured consistent naming across analysis steps             | Renamed to: `date`, `item_name`, `price_eur`                                                     |\n",
    "| 5    | **Date Parsing**: Converted `Month` to a proper `datetime` field        | Enables correct time-series grouping and chronological sorting                       | Facilitated monthly/annual time-based analyses                                                   |\n",
    "| 6    | **Missing Value Handling**: Dropped items with >70% missing values      | These items were too incomplete to reliably analyze or interpolate                   | Removed 4 items: *Lamb gigot chops, Fillet of whiting, Fillet of plaice, Potatoes 10 kg*         |\n",
    "| 7    | **Gap Consistency**: Dropped items with >15 months consecutive gaps     | Long data gaps break time-series continuity and distort trend analysis               | Removed 3 items: *Fresh hake, Potatoes 7.5 kg, Lamb's liver*                                     |\n",
    "| 8    | **Unit Standardization**: Converted to consistent euro per kg/litre     | Standardized heterogeneous units to enable fair price comparison                     | Added `price_per_kg_or_litre` field for consistent comparability                                 |\n",
    "| 9    | **Final Validation**: Checked shape, data types, and null values        | Ensures a clean, analysis-ready data structure                                       | No remaining NaNs; consistent formatting verified                  \n",
    "|\n",
    "| 10   | **Time Series Structure Check**: Verified complete monthly sequences per item | Time series methods (e.g., decomposition) require regular frequency and no missing months | Identified items with irregular monthly data and verified series continuity before analysis      |\n",
    "\n",
    "**The dataset is now ready for exploratory analysis, trend modeling, and affordability calculations.**\n",
    "\n",
    "**Total rows removed** due to cleaning: 959  \n",
    "**Total rows retained**: 5,617  \n",
    "**Data retention rate**: approx. 85%  \n",
    "\n",
    "After this data cleaning phase, the dataset is fully structured, missing data addressed, and standardized for further exploration. The next stage will focus on an Exploratory Data Analysis (EDA) to better understand patterns, detect trends, and validate the data prior to any feature engineering.\n",
    "\n"
   ]
  },
  {
   "cell_type": "markdown",
   "id": "98823e91-f82f-4977-98cb-a0455bab87c9",
   "metadata": {},
   "source": [
    "#### Dataset Version\n",
    "- Cleaned food dataset  \n",
    "- Last updated: July 2025"
   ]
  },
  {
   "cell_type": "code",
   "execution_count": 31,
   "id": "daa60cb3-ac26-4ea2-9dc1-e17a3437bc3b",
   "metadata": {},
   "outputs": [
    {
     "data": {
      "image/png": "[encoded data removed]",
      "text/plain": [
       "<Figure size 640x480 with 1 Axes>"
      ]
     },
     "metadata": {},
     "output_type": "display_data"
    }
   ],
   "source": [
    "food['Price_per_kg_or_litre'].plot.hist(bins=30, edgecolor='black')\n",
    "plt.title(\"Price Distribution (€/kg or L)\")\n",
    "plt.xlabel(\"Price\")\n",
    "plt.ylabel(\"Frequency\")\n",
    "plt.grid(True)\n",
    "plt.tight_layout()\n",
    "plt.show()"
   ]
  },
  {
   "cell_type": "code",
   "execution_count": 32,
   "id": "cb6fb05e-d034-48b0-98f4-58e26e399837",
   "metadata": {},
   "outputs": [],
   "source": [
    "# Saving the cleaned dataframe for EDA stage. \n",
    "food.to_csv(\"cleaned_food.csv\", index=False)"
   ]
  }
 ],
 "metadata": {
  "kernelspec": {
   "display_name": "Python [conda env:base] *",
   "language": "python",
   "name": "conda-base-py"
  },
  "language_info": {
   "codemirror_mode": {
    "name": "ipython",
    "version": 3
   },
   "file_extension": ".py",
   "mimetype": "text/x-python",
   "name": "python",
   "nbconvert_exporter": "python",
   "pygments_lexer": "ipython3",
   "version": "3.13.5"
  }
 },
 "nbformat": 4,
 "nbformat_minor": 5
}
